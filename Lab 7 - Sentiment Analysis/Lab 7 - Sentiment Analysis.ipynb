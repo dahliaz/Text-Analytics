{
 "cells": [
  {
   "cell_type": "code",
   "execution_count": 1,
   "id": "177e83c0",
   "metadata": {},
   "outputs": [],
   "source": [
    "from textblob import TextBlob\n",
    "from vaderSentiment.vaderSentiment import SentimentIntensityAnalyzer\n",
    "from tabulate import tabulate"
   ]
  },
  {
   "cell_type": "code",
   "execution_count": 2,
   "id": "0f2c6c68",
   "metadata": {},
   "outputs": [],
   "source": [
    "data = [\n",
    " (\"I love this product, it's amazing!\", 'positive'),\n",
    " (\"This product is terrible, I hate it.\", 'negative'),\n",
    " (\"It's okay, not bad but not great either.\", 'neutral'),\n",
    " (\"Best product ever, highly recommended!\", 'positive'),\n",
    " (\"I'm really disappointed with the quality.\", 'negative'),\n",
    " (\"So-so product, nothing special about it.\", 'neutral'),\n",
    " (\"The customer service was excellent!\", 'positive'),\n",
    " (\"I wasted my money on this useless product.\", 'negative'),\n",
    " (\"It's not the worst, but certainly not the best.\", 'neutral'),\n",
    " (\"I can't live without this product, it's a lifesaver!\", 'positive'),\n",
    " (\"The product arrived damaged and unusable.\", 'negative'),\n",
    " (\"It's average, neither good nor bad.\", 'neutral'),\n",
    " (\"Highly disappointed with the purchase.\", 'negative'),\n",
    " (\"The product exceeded my expectations.\", 'positive'),\n",
    " (\"It's just okay, nothing extraordinary.\", 'neutral'),\n",
    " (\"This product is excellent, it exceeded all my expectations!\", 'positive'),\n",
    " (\"I regret purchasing this product, it's a waste of money.\", 'negative'),\n",
    " (\"It's neither good nor bad, just average.\", 'neutral'),\n",
    " (\"Outstanding customer service, highly recommended!\", 'positive'),\n",
    " (\"I'm very disappointed with the quality of this item.\", 'negative'),\n",
    " (\"It's not the best product, but it gets the job done.\", 'neutral'),\n",
    " (\"This product is a game-changer, I can't imagine life without it!\", 'positive'),\n",
    " (\"I received a defective product, very dissatisfied.\", 'negative'),\n",
    " (\"It's neither great nor terrible, just okay.\", 'neutral'),\n",
    " (\"Fantastic product, I would buy it again in a heartbeat!\", 'positive'),\n",
    " (\"Avoid this product at all costs, complete waste of money.\", 'negative'),\n",
    " (\"It's decent, but nothing extraordinary.\", 'neutral'),\n",
    " (\"Impressive quality, exceeded my expectations!\", 'positive'),\n",
    " (\"I'm very unhappy with this purchase, total disappointment.\", 'negative'),\n",
    " (\"It's neither amazing nor terrible, somewhere in between.\", 'neutral')\n",
    "]"
   ]
  },
  {
   "cell_type": "code",
   "execution_count": 3,
   "id": "6246aff0",
   "metadata": {},
   "outputs": [],
   "source": [
    "table_data = [[\"Text\", \"Actual Label\", \"TextBlob Polarity\", \"TextBlob Sentiment\", \n",
    "\"VADER Compound\", \"VADER Sentiment\"]]"
   ]
  },
  {
   "cell_type": "code",
   "execution_count": 6,
   "id": "04c47362",
   "metadata": {},
   "outputs": [],
   "source": [
    "for text, actual_label in data:\n",
    "    blob = TextBlob(text)\n",
    "    tb_polarity = blob.sentiment.polarity\n",
    " \n",
    "    # Determine label based on polarity score from TextBlob\n",
    "    if tb_polarity > 0:\n",
    "        tb_label = 'positive'\n",
    "    elif tb_polarity < 0:\n",
    "        tb_label = 'negative'\n",
    "    else:\n",
    "        tb_label = 'neutral'\n",
    "    \n",
    "    # VADER\n",
    "    analyzer = SentimentIntensityAnalyzer()\n",
    "    vs = analyzer.polarity_scores(text)\n",
    "    vader_compound = vs['compound']\n",
    "    \n",
    "    # Determine label based on compound score from VADER\n",
    "    if vader_compound > 0.05:\n",
    "        vader_label = 'positive'\n",
    "    elif vader_compound < -0.05:\n",
    "        vader_label = 'negative'\n",
    "    else:\n",
    "        vader_label = 'neutral'\n",
    "    \n",
    "    table_data.append([text, actual_label, tb_polarity, tb_label, vader_compound, vader_label])\n"
   ]
  },
  {
   "cell_type": "code",
   "execution_count": 7,
   "id": "265d56a4",
   "metadata": {},
   "outputs": [
    {
     "name": "stdout",
     "output_type": "stream",
     "text": [
      "Text                                                              Actual Label      TextBlob Polarity  TextBlob Sentiment      VADER Compound  VADER Sentiment\n",
      "I love this product, it's amazing!                                positive                  0.625      positive                        0.8516  positive\n",
      "This product is terrible, I hate it.                              negative                 -0.9        negative                       -0.7783  negative\n",
      "It's okay, not bad but not great either.                          neutral                   0.15       positive                       -0.4707  negative\n",
      "Best product ever, highly recommended!                            positive                  0.6        positive                        0.7639  positive\n",
      "I'm really disappointed with the quality.                         negative                 -0.75       negative                       -0.5256  negative\n",
      "So-so product, nothing special about it.                          neutral                   0.357143   positive                       -0.3089  negative\n",
      "The customer service was excellent!                               positive                  1          positive                        0.6114  positive\n",
      "I wasted my money on this useless product.                        negative                 -0.35       negative                       -0.7543  negative\n",
      "It's not the worst, but certainly not the best.                   neutral                  -0.0357143  negative                       -0.0785  negative\n",
      "I can't live without this product, it's a lifesaver!              positive                  0.170455   positive                        0.6239  positive\n",
      "The product arrived damaged and unusable.                         negative                  0          neutral                        -0.4404  negative\n",
      "It's average, neither good nor bad.                               neutral                  -0.05       negative                       -0.5824  negative\n",
      "Highly disappointed with the purchase.                            negative                 -0.75       negative                       -0.5256  negative\n",
      "The product exceeded my expectations.                             positive                  0          neutral                         0       neutral\n",
      "It's just okay, nothing extraordinary.                            neutral                   0.416667   positive                        0.2263  positive\n",
      "This product is excellent, it exceeded all my expectations!       positive                  1          positive                        0.6114  positive\n",
      "I regret purchasing this product, it's a waste of money.          negative                 -0.2        negative                       -0.6808  negative\n",
      "It's neither good nor bad, just average.                          neutral                  -0.05       negative                       -0.5824  negative\n",
      "Outstanding customer service, highly recommended!                 positive                  0.35       positive                        0.7495  positive\n",
      "I'm very disappointed with the quality of this item.              negative                 -0.975      negative                       -0.5256  negative\n",
      "It's not the best product, but it gets the job done.              neutral                   1          positive                       -0.2924  negative\n",
      "This product is a game-changer, I can't imagine life without it!  positive                  0          neutral                         0       neutral\n",
      "I received a defective product, very dissatisfied.                negative                  0.2        positive                       -0.6997  negative\n",
      "It's neither great nor terrible, just okay.                       neutral                   0.1        positive                       -0.7278  negative\n",
      "Fantastic product, I would buy it again in a heartbeat!           positive                  0.5        positive                        0.5983  positive\n",
      "Avoid this product at all costs, complete waste of money.         negative                 -0.05       negative                       -0.6124  negative\n",
      "It's decent, but nothing extraordinary.                           neutral                   0.25       positive                        0       neutral\n",
      "Impressive quality, exceeded my expectations!                     positive                  1          positive                        0.5562  positive\n",
      "I'm very unhappy with this purchase, total disappointment.        negative                 -0.46       negative                       -0.7708  negative\n",
      "It's neither amazing nor terrible, somewhere in between.          neutral                  -0.2        negative                       -0.6395  negative\n"
     ]
    }
   ],
   "source": [
    "print(tabulate(table_data, headers=\"firstrow\", tablefmt=\"plain\"))"
   ]
  },
  {
   "cell_type": "code",
   "execution_count": 8,
   "id": "b57cabaf",
   "metadata": {},
   "outputs": [],
   "source": [
    "from sklearn.metrics import classification_report"
   ]
  },
  {
   "cell_type": "code",
   "execution_count": 9,
   "id": "df8be16e",
   "metadata": {},
   "outputs": [
    {
     "name": "stdout",
     "output_type": "stream",
     "text": [
      "\n",
      "Classification Report for TextBlob:\n",
      "              precision    recall  f1-score   support\n",
      "\n",
      "    negative       0.67      0.80      0.73        10\n",
      "     neutral       0.00      0.00      0.00        10\n",
      "    positive       0.53      0.80      0.64        10\n",
      "\n",
      "    accuracy                           0.53        30\n",
      "   macro avg       0.40      0.53      0.46        30\n",
      "weighted avg       0.40      0.53      0.46        30\n",
      "\n",
      "\n",
      "Classification Report for VADER:\n",
      "              precision    recall  f1-score   support\n",
      "\n",
      "    negative       0.56      1.00      0.71        10\n",
      "     neutral       0.33      0.10      0.15        10\n",
      "    positive       0.89      0.80      0.84        10\n",
      "\n",
      "    accuracy                           0.63        30\n",
      "   macro avg       0.59      0.63      0.57        30\n",
      "weighted avg       0.59      0.63      0.57        30\n",
      "\n"
     ]
    }
   ],
   "source": [
    "# Calculate classification report for TextBlob\n",
    "tb_classification_report = classification_report([label for _, label, _, tb_label, _, \n",
    "_ in table_data[1:]], [tb_label for _, _, _, tb_label, _, _ in table_data[1:]], \n",
    "target_names=['negative', 'neutral', 'positive'])\n",
    "# Calculate classification report for VADER\n",
    "vader_classification_report = classification_report([label for _, label, _, _, _, \n",
    "vader_label in table_data[1:]], [vader_label for _, _, _, _, _, vader_label in \n",
    "table_data[1:]], target_names=['negative', 'neutral', 'positive'])\n",
    "# Print classification report for TextBlob\n",
    "print(\"\\nClassification Report for TextBlob:\")\n",
    "print(tb_classification_report)\n",
    "# Print classification report for VADER\n",
    "print(\"\\nClassification Report for VADER:\")\n",
    "print(vader_classification_report)"
   ]
  }
 ],
 "metadata": {
  "kernelspec": {
   "display_name": "Python 3 (ipykernel)",
   "language": "python",
   "name": "python3"
  },
  "language_info": {
   "codemirror_mode": {
    "name": "ipython",
    "version": 3
   },
   "file_extension": ".py",
   "mimetype": "text/x-python",
   "name": "python",
   "nbconvert_exporter": "python",
   "pygments_lexer": "ipython3",
   "version": "3.11.5"
  }
 },
 "nbformat": 4,
 "nbformat_minor": 5
}
