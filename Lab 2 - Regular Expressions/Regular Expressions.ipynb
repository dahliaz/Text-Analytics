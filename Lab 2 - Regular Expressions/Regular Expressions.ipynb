{
 "cells": [
  {
   "cell_type": "code",
   "execution_count": 1,
   "id": "14d1d850",
   "metadata": {},
   "outputs": [],
   "source": [
    "#importing regular expression library\n",
    "import re"
   ]
  },
  {
   "cell_type": "code",
   "execution_count": 2,
   "id": "ad197f1b",
   "metadata": {},
   "outputs": [
    {
     "name": "stdout",
     "output_type": "stream",
     "text": [
      "<re.Match object; span=(0, 1), match='I'>\n"
     ]
    }
   ],
   "source": [
    "#using re.match \n",
    "#to find the first occurrence of the letter 'I' in the string \n",
    " \n",
    "sentence1 = re.match (r'I', 'I am learning text analytics') \n",
    "print (sentence1)"
   ]
  },
  {
   "cell_type": "code",
   "execution_count": 3,
   "id": "0988d9c5",
   "metadata": {},
   "outputs": [
    {
     "name": "stdout",
     "output_type": "stream",
     "text": [
      "None\n"
     ]
    }
   ],
   "source": [
    "#using re.match \n",
    "#to find the first occurrence of the letter 'v' in the string \n",
    " \n",
    "sentence2 = re.match (r'v', 'I am learning text analytics') \n",
    "print (sentence2) "
   ]
  },
  {
   "cell_type": "code",
   "execution_count": 4,
   "id": "5b5f1ac5",
   "metadata": {},
   "outputs": [
    {
     "name": "stdout",
     "output_type": "stream",
     "text": [
      "None\n"
     ]
    }
   ],
   "source": [
    "#using re.match \n",
    "#to find the first occurrence of the letter 'am' in the string \n",
    " \n",
    "sentence3 = re.match (r'am', 'I am learning text analytics') \n",
    "print (sentence3) "
   ]
  },
  {
   "cell_type": "code",
   "execution_count": 6,
   "id": "b6578c46",
   "metadata": {},
   "outputs": [
    {
     "name": "stdout",
     "output_type": "stream",
     "text": [
      "<re.Match object; span=(2, 4), match='am'>\n"
     ]
    }
   ],
   "source": [
    "#using re.search\n",
    "#to find anywhere in the string the occurance of the letter 'am'\n",
    "sentence4 = re.search(r'am', 'I am learning text analytics')  \n",
    "print (sentence4)  "
   ]
  },
  {
   "cell_type": "code",
   "execution_count": 7,
   "id": "72c634f3",
   "metadata": {},
   "outputs": [
    {
     "name": "stdout",
     "output_type": "stream",
     "text": [
      "<re.Match object; span=(2, 4), match='am'>\n"
     ]
    }
   ],
   "source": [
    "#using re.search\n",
    "#to find anywhere in the string the FIRST occurance of the letter 'am'\n",
    "sentence5 = re.search(r'am', 'I am learning text analytics and am enjoying it')  \n",
    "print (sentence5)  "
   ]
  },
  {
   "cell_type": "code",
   "execution_count": 8,
   "id": "70426433",
   "metadata": {},
   "outputs": [
    {
     "name": "stdout",
     "output_type": "stream",
     "text": [
      "['am', 'am']\n"
     ]
    }
   ],
   "source": [
    "#using re.findall\n",
    "#to find anywhere in the string all the occurance of the letter 'am'\n",
    "sentence6 = re.findall(r'am', 'I am learning text analytics and am enjoying it')  \n",
    "print (sentence6)  "
   ]
  },
  {
   "cell_type": "code",
   "execution_count": 9,
   "id": "901f604d",
   "metadata": {},
   "outputs": [
    {
     "name": "stdout",
     "output_type": "stream",
     "text": [
      "['I am learning text analytics ', ' am enjoying it']\n"
     ]
    }
   ],
   "source": [
    "#using re.split\n",
    "#to split a string by the occurrence of a given pattern 'and'\n",
    "sentence7 = re.split(r'and', 'I am learning text analytics and am enjoying it')  \n",
    "print (sentence7)  "
   ]
  },
  {
   "cell_type": "code",
   "execution_count": 10,
   "id": "521e4e71",
   "metadata": {},
   "outputs": [
    {
     "name": "stdout",
     "output_type": "stream",
     "text": [
      "['I ', ' learning text analytics and ', ' enjoying it']\n"
     ]
    }
   ],
   "source": [
    "#using re.split\n",
    "#to split a string by the occurrence of a given pattern 'am'\n",
    "sentence8 = re.split(r'am', 'I am learning text analytics and am enjoying it')  \n",
    "print (sentence8)  "
   ]
  },
  {
   "cell_type": "code",
   "execution_count": 11,
   "id": "7115f4ab",
   "metadata": {},
   "outputs": [
    {
     "name": "stdout",
     "output_type": "stream",
     "text": [
      "['I ', ' learning text analytics and am enjoying it']\n"
     ]
    }
   ],
   "source": [
    "#using re.split\n",
    "#to split a string by the occurrence of a given pattern 'am' ONCE\n",
    "sentence9 = re.split(r'am', 'I am learning text analytics and am enjoying it', maxsplit=1) \n",
    "print (sentence9)  "
   ]
  },
  {
   "cell_type": "code",
   "execution_count": 12,
   "id": "095e4ad4",
   "metadata": {},
   "outputs": [
    {
     "name": "stdout",
     "output_type": "stream",
     "text": [
      "['I ', ' learning text analytics and ', ' enjoying it']\n"
     ]
    }
   ],
   "source": [
    "#using re.split\n",
    "#to split a string by the occurrence of a given pattern 'am' TWICE\n",
    "sentence9 = re.split(r'am', 'I am learning text analytics and am enjoying it', maxsplit=2) \n",
    "print (sentence9)  "
   ]
  },
  {
   "cell_type": "code",
   "execution_count": 13,
   "id": "5eabf0d3",
   "metadata": {},
   "outputs": [
    {
     "name": "stdout",
     "output_type": "stream",
     "text": [
      "['I ', ' learning text analytics, I ', ' enjoying it and I ', ' going to ace it']\n"
     ]
    }
   ],
   "source": [
    "#using re.split\n",
    "#to split a string by the occurrence of a given pattern 'am' THRICE\n",
    "sentence10 = re.split(r'am', 'I am learning text analytics, I am enjoying it and I am going to ace it', maxsplit=3) \n",
    "print (sentence10)  "
   ]
  },
  {
   "cell_type": "code",
   "execution_count": 14,
   "id": "90714170",
   "metadata": {},
   "outputs": [
    {
     "name": "stdout",
     "output_type": "stream",
     "text": [
      "we like text analytics and we enjoy learning it\n"
     ]
    }
   ],
   "source": [
    "#using re.sub\n",
    "#to find the occurrence of a given pattern in a string and replace with\n",
    "#a new value\n",
    "sentence11 = re.sub(r'I', 'we', 'I like text analytics and I enjoy learning it') \n",
    "print (sentence11)  "
   ]
  },
  {
   "cell_type": "code",
   "execution_count": 15,
   "id": "b76485ef",
   "metadata": {},
   "outputs": [
    {
     "name": "stdout",
     "output_type": "stream",
     "text": [
      "['I', ' ', 'a', 'm', ' ', 'l', 'e', 'a', 'r', 'n', 'i', 'n', 'g', ' ', 't', 'e', 'x', 't', ' ', 'a', 'n', 'a', 'l', 'y', 't', 'i', 'c', 's']\n"
     ]
    }
   ],
   "source": [
    "#using re.findall\n",
    "#to find any character in a string including spaces EXCEPT new line\n",
    "sentence1 = re.findall (r'.', 'I am learning text analytics') \n",
    "print (sentence1) "
   ]
  },
  {
   "cell_type": "code",
   "execution_count": 17,
   "id": "08a5bf5e",
   "metadata": {},
   "outputs": [
    {
     "name": "stdout",
     "output_type": "stream",
     "text": [
      "['I', 'a', 'm', 'l', 'e', 'a', 'r', 'n', 'i', 'n', 'g', 't', 'e', 'x', 't', 'a', 'n', 'a', 'l', 'y', 't', 'i', 'c', 's']\n"
     ]
    }
   ],
   "source": [
    "#using re.findall\n",
    "#to find any character in a string EXCEPT spaces and new line\n",
    "sentence2 = re.findall (r'\\w', 'I am learning text analytics') \n",
    "print (sentence2) "
   ]
  },
  {
   "cell_type": "code",
   "execution_count": 18,
   "id": "8e0521b9",
   "metadata": {},
   "outputs": [
    {
     "name": "stdout",
     "output_type": "stream",
     "text": [
      "['I', '', 'am', '', 'learning', '', 'text', '', 'analytics', '']\n"
     ]
    }
   ],
   "source": [
    "#using re.findall\n",
    "#to find any character with 0 or more including spaces\n",
    "sentence4 = re.findall (r'\\w*', 'I am learning text analytics') \n",
    "print (sentence4) "
   ]
  },
  {
   "cell_type": "code",
   "execution_count": 19,
   "id": "b41b2a22",
   "metadata": {},
   "outputs": [
    {
     "name": "stdout",
     "output_type": "stream",
     "text": [
      "['I', 'am', 'learning', 'text', 'analytics']\n"
     ]
    }
   ],
   "source": [
    "#using re.findall\n",
    "#to find any character with 1 or more EXCEPT spaces\n",
    "sentence4 = re.findall (r'\\w+', 'I am learning text analytics') \n",
    "print (sentence4) "
   ]
  },
  {
   "cell_type": "code",
   "execution_count": 20,
   "id": "9dd359e0",
   "metadata": {},
   "outputs": [
    {
     "name": "stdout",
     "output_type": "stream",
     "text": [
      "['I']\n"
     ]
    }
   ],
   "source": [
    "#using re.findall\n",
    "#to find the first word\n",
    "sentence5 = re.findall (r'^\\w+', 'I am learning text analytics') \n",
    "print (sentence5) "
   ]
  },
  {
   "cell_type": "code",
   "execution_count": 21,
   "id": "8bded892",
   "metadata": {},
   "outputs": [
    {
     "name": "stdout",
     "output_type": "stream",
     "text": [
      "['analytics']\n"
     ]
    }
   ],
   "source": [
    "#using re.findall\n",
    "#to find the last word\n",
    "sentence6 = re.findall (r'\\w+$', 'I am learning text analytics') \n",
    "print (sentence6) "
   ]
  },
  {
   "cell_type": "code",
   "execution_count": 22,
   "id": "ab6ccf6a",
   "metadata": {},
   "outputs": [
    {
     "name": "stdout",
     "output_type": "stream",
     "text": [
      "['am', 'le', 'ar', 'ni', 'ng', 'te', 'xt', 'an', 'al', 'yt', 'ic']\n"
     ]
    }
   ],
   "source": [
    "#using re.findall\n",
    "#to find the 2 consecutive letters are selected\n",
    "sentence7 = re.findall (r'\\w\\w', 'I am learning text analytics') \n",
    "print (sentence7) "
   ]
  },
  {
   "cell_type": "code",
   "execution_count": 23,
   "id": "84c78c18",
   "metadata": {},
   "outputs": [
    {
     "name": "stdout",
     "output_type": "stream",
     "text": [
      "['am', 'le', 'te', 'an']\n"
     ]
    }
   ],
   "source": [
    "#using re.findall\n",
    "#to find the 2 consecutive letters in each word\n",
    "sentence8 = re.findall (r'\\b\\w\\w', 'I am learning text analytics') \n",
    "print (sentence8) \n"
   ]
  },
  {
   "cell_type": "code",
   "execution_count": 24,
   "id": "9e7743eb",
   "metadata": {},
   "outputs": [
    {
     "name": "stdout",
     "output_type": "stream",
     "text": [
      "['@text', '@analytics', '@textanalytics']\n"
     ]
    }
   ],
   "source": [
    "#using re.findall\n",
    "#to find the FIRST domain name of each email\n",
    "sentence9 = re.findall (r'@\\w+', 'user@text.com.my, user@analytics.gov.my, user@textanalytics.edu.my')\n",
    "print (sentence9)"
   ]
  },
  {
   "cell_type": "code",
   "execution_count": 25,
   "id": "93ea03fa",
   "metadata": {},
   "outputs": [
    {
     "name": "stdout",
     "output_type": "stream",
     "text": [
      "['@text.com', '@analytics.gov', '@textanalytics.edu']\n"
     ]
    }
   ],
   "source": [
    "#using re.findall\n",
    "#to find the 2 domain name of each email\n",
    "sentence10 = re.findall (r'@\\w+.\\w+','user@text.com.my, user@analytics.gov.my, user@textanalytics.edu.my')\n",
    "print (sentence10)"
   ]
  },
  {
   "cell_type": "code",
   "execution_count": 26,
   "id": "7eea5289",
   "metadata": {},
   "outputs": [
    {
     "name": "stdout",
     "output_type": "stream",
     "text": [
      "['@text.com.my', '@analytics.gov.my', '@textanalytics.edu.my']\n"
     ]
    }
   ],
   "source": [
    "#using re.findall\n",
    "#to find the ENTIRE domain name of each email\n",
    "sentence11 = re.findall (r'@\\w+.\\w+.\\w+', 'user@text.com.my, user@analytics.gov.my, user@textanalytics.edu.my')\n",
    "print (sentence11) "
   ]
  },
  {
   "cell_type": "code",
   "execution_count": 30,
   "id": "a1e146ab",
   "metadata": {},
   "outputs": [
    {
     "name": "stdout",
     "output_type": "stream",
     "text": [
      "['com.my', 'gov.my', 'edu.my']\n"
     ]
    }
   ],
   "source": [
    "#using re.findall\n",
    "#to find the type of domain of each email\n",
    "sentence12 = re.findall (r'@\\w+.(\\w+.\\w+)', 'user@text.com.my, user@analytics.gov.my, user@textanalytics.edu.my')\n",
    "print (sentence12) "
   ]
  },
  {
   "cell_type": "code",
   "execution_count": 31,
   "id": "9eeea4aa",
   "metadata": {},
   "outputs": [
    {
     "name": "stdout",
     "output_type": "stream",
     "text": [
      "['15-05-20', '20-08-20']\n"
     ]
    }
   ],
   "source": [
    "#using re.findall\n",
    "# To display the date in the format of dd-mm-yy \n",
    "sentence13 = re.findall (r'\\d{2}-\\d{2}-\\d{2}', 'Ahmad BIT(IS) 15-05-2001, Johnny BCS(SE) 20-08-2000')\n",
    "print (sentence13) "
   ]
  },
  {
   "cell_type": "code",
   "execution_count": 33,
   "id": "d29d0b8f",
   "metadata": {},
   "outputs": [
    {
     "name": "stdout",
     "output_type": "stream",
     "text": [
      "['15-05-2001', '20-08-2000']\n"
     ]
    }
   ],
   "source": [
    "#using re.findall\n",
    "# To display the date in the format of dd-mm-yyyy \n",
    "sentence13 = re.findall (r'\\d{2}-\\d{2}-\\d{4}', 'Ahmad BIT(IS) 15-05-2001, Johnny BCS(SE) 20-08-2000')\n",
    "print (sentence13) "
   ]
  },
  {
   "cell_type": "code",
   "execution_count": 34,
   "id": "231b7a58",
   "metadata": {},
   "outputs": [
    {
     "name": "stdout",
     "output_type": "stream",
     "text": [
      "['2001', '2000']\n"
     ]
    }
   ],
   "source": [
    "#using re.findall\n",
    "# To display ONLY the year\n",
    "sentence15 = re.findall (r'\\d{2}-\\d{2}-(\\d{4})', 'Ahmad BIT(IS) 15-05-2001, Johnny BCS(SE) 20-08-2000')\n",
    "print (sentence15) "
   ]
  },
  {
   "cell_type": "code",
   "execution_count": 35,
   "id": "4aff83e5",
   "metadata": {},
   "outputs": [
    {
     "name": "stdout",
     "output_type": "stream",
     "text": [
      "['ave', 'eight', 'ory', 'ooks', 'often', 'ead', 'em', 'in', 'afternoon']\n"
     ]
    }
   ],
   "source": [
    "#using re.findall\n",
    "#A sequence that starts with a vowel followed by one o rmore characters are selected \n",
    "sentence16 = re.findall (r'[aeiouAEIOU]\\w+', 'I have eight story books. I often read them in afternoon')\n",
    "print (sentence16) "
   ]
  },
  {
   "cell_type": "code",
   "execution_count": 36,
   "id": "a0a6baa1",
   "metadata": {},
   "outputs": [
    {
     "name": "stdout",
     "output_type": "stream",
     "text": [
      "['eight', 'often', 'in', 'afternoon']\n"
     ]
    }
   ],
   "source": [
    "#using re.findall\n",
    "# Only words that start with vowels are selected \n",
    "sentence17 = re.findall (r'\\b[aeiouAEIOU]\\w+', 'I have eight story books. I often read them in afternoon')\n",
    "print (sentence17) "
   ]
  },
  {
   "cell_type": "code",
   "execution_count": 37,
   "id": "a9c3718b",
   "metadata": {},
   "outputs": [
    {
     "name": "stdout",
     "output_type": "stream",
     "text": [
      "['have', 'story', 'books', 'read', 'them']\n"
     ]
    }
   ],
   "source": [
    "#using re.findall\n",
    "# Only words that start with non-vowels are selected \n",
    "sentence18 = re.findall (r'\\b[^aeiouAEIOU\\s]\\w+', 'I have eight story books. I often read them in afternoon')\n",
    "print (sentence18) "
   ]
  },
  {
   "cell_type": "code",
   "execution_count": 38,
   "id": "4130b34d",
   "metadata": {},
   "outputs": [
    {
     "name": "stdout",
     "output_type": "stream",
     "text": [
      "['I have many story books', ' colouring books', ' I often read them in the afternoon.']\n"
     ]
    }
   ],
   "source": [
    "#using re.split\n",
    "# split the words based on the delimiters semi colon and comma\n",
    "sentence19 = re.split (r'[;,]', 'I have many story books, colouring books; I often read them in the afternoon.')\n",
    "print (sentence19) "
   ]
  },
  {
   "cell_type": "code",
   "execution_count": 39,
   "id": "542b392a",
   "metadata": {},
   "outputs": [
    {
     "name": "stdout",
     "output_type": "stream",
     "text": [
      "['I', 'have', 'many', 'story', 'books', '', 'colouring', 'books', '', 'I', 'often', 'read', 'them', 'in', 'the', 'afternoon.']\n"
     ]
    }
   ],
   "source": [
    "#using re.split\n",
    "# split the words based on the delimiters semi colon, comma and space \n",
    "sentence20 = re.split (r'[;,\\s]', 'I have many story books, colouring books; I often read them in the afternoon.')\n",
    "print (sentence20) "
   ]
  },
  {
   "cell_type": "code",
   "execution_count": 40,
   "id": "52c80f9c",
   "metadata": {},
   "outputs": [
    {
     "name": "stdout",
     "output_type": "stream",
     "text": [
      "I have many story books. colouring books. I often read them in the afternoon.\n"
     ]
    }
   ],
   "source": [
    "#using re.split\n",
    "# Substitute the delimiters semi colon and comma with fullstop\n",
    "sentence21 = re.sub (r'[;,]', '.', 'I have many story books, colouring books; I often read them in the afternoon.')\n",
    "print (sentence21) \n"
   ]
  }
 ],
 "metadata": {
  "kernelspec": {
   "display_name": "Python 3 (ipykernel)",
   "language": "python",
   "name": "python3"
  },
  "language_info": {
   "codemirror_mode": {
    "name": "ipython",
    "version": 3
   },
   "file_extension": ".py",
   "mimetype": "text/x-python",
   "name": "python",
   "nbconvert_exporter": "python",
   "pygments_lexer": "ipython3",
   "version": "3.11.5"
  }
 },
 "nbformat": 4,
 "nbformat_minor": 5
}
